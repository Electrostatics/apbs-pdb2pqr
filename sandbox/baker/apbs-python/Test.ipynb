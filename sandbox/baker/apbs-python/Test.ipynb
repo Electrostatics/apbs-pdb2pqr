{
 "cells": [
  {
   "cell_type": "markdown",
   "metadata": {},
   "source": [
    "# Testing and demonstrating APBS Python extensions"
   ]
  },
  {
   "cell_type": "code",
   "execution_count": 1,
   "metadata": {
    "collapsed": false
   },
   "outputs": [],
   "source": [
    "import apbs.parser\n",
    "import apbs.calculation\n",
    "\n",
    "text_input_path = \"examples/apbs.in\""
   ]
  },
  {
   "cell_type": "markdown",
   "metadata": {},
   "source": [
    "# Input file parsing"
   ]
  },
  {
   "cell_type": "markdown",
   "metadata": {},
   "source": [
    "## APBS plaintext input file parsing"
   ]
  },
  {
   "cell_type": "code",
   "execution_count": 3,
   "metadata": {
    "collapsed": false,
    "scrolled": false
   },
   "outputs": [
    {
     "name": "stderr",
     "output_type": "stream",
     "text": [
      "WARNING:apbs.parser.elec_parser:Corrected dimension 130 to 87 for compatibility with multigrid.\n"
     ]
    },
    {
     "data": {
      "text/plain": [
       "{'_short_name': 'APBS INPUT FILE',\n",
       " '_tokens': None,\n",
       " 'calcs': [<apbs.parser.elec_parser.Elec at 0x105179da0>,\n",
       "  <apbs.parser.elec_parser.Elec at 0x105179ef0>,\n",
       "  <apbs.parser.elec_parser.Elec at 0x105183e80>,\n",
       "  <apbs.parser.elec_parser.Elec at 0x1051830b8>,\n",
       "  <apbs.parser.elec_parser.Elec at 0x105185048>,\n",
       "  <apbs.parser.apolar_parser.Apolar at 0x1051855f8>],\n",
       " 'prints': [<apbs.parser.print_parser.Print at 0x1051858d0>],\n",
       " 'reads': [<apbs.parser.read_parser.Read at 0x105187080>]}"
      ]
     },
     "execution_count": 3,
     "metadata": {},
     "output_type": "execute_result"
    }
   ],
   "source": [
    "parser = apbs.parser.TextDecoder()\n",
    "with open(text_input_path, \"rt\") as input_file:\n",
    "    parser.feed(input_file)\n",
    "    parser.parse()\n",
    "vars(parser.apbs_input)"
   ]
  },
  {
   "cell_type": "code",
   "execution_count": null,
   "metadata": {
    "collapsed": true
   },
   "outputs": [],
   "source": []
  }
 ],
 "metadata": {
  "kernelspec": {
   "display_name": "Python 3",
   "language": "python",
   "name": "python3"
  },
  "language_info": {
   "codemirror_mode": {
    "name": "ipython",
    "version": 3
   },
   "file_extension": ".py",
   "mimetype": "text/x-python",
   "name": "python",
   "nbconvert_exporter": "python",
   "pygments_lexer": "ipython3",
   "version": "3.4.3"
  }
 },
 "nbformat": 4,
 "nbformat_minor": 0
}
